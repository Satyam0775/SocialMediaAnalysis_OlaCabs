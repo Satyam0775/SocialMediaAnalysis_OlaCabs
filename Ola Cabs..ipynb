{
 "cells": [
  {
   "cell_type": "code",
   "execution_count": 1,
   "metadata": {},
   "outputs": [
    {
     "name": "stdout",
     "output_type": "stream",
     "text": [
      "Requirement already satisfied: pandas in c:\\users\\satya\\olacabsanalysis\\venv\\lib\\site-packages (2.2.3)\n",
      "Requirement already satisfied: numpy in c:\\users\\satya\\olacabsanalysis\\venv\\lib\\site-packages (2.2.1)\n",
      "Requirement already satisfied: matplotlib in c:\\users\\satya\\olacabsanalysis\\venv\\lib\\site-packages (3.10.0)\n",
      "Requirement already satisfied: seaborn in c:\\users\\satya\\olacabsanalysis\\venv\\lib\\site-packages (0.13.2)\n",
      "Requirement already satisfied: textblob in c:\\users\\satya\\olacabsanalysis\\venv\\lib\\site-packages (0.18.0.post0)\n",
      "Requirement already satisfied: vaderSentiment in c:\\users\\satya\\olacabsanalysis\\venv\\lib\\site-packages (3.3.2)\n",
      "Requirement already satisfied: python-dateutil>=2.8.2 in c:\\users\\satya\\olacabsanalysis\\venv\\lib\\site-packages (from pandas) (2.9.0.post0)\n",
      "Requirement already satisfied: pytz>=2020.1 in c:\\users\\satya\\olacabsanalysis\\venv\\lib\\site-packages (from pandas) (2024.2)\n",
      "Requirement already satisfied: tzdata>=2022.7 in c:\\users\\satya\\olacabsanalysis\\venv\\lib\\site-packages (from pandas) (2024.2)\n",
      "Requirement already satisfied: contourpy>=1.0.1 in c:\\users\\satya\\olacabsanalysis\\venv\\lib\\site-packages (from matplotlib) (1.3.1)\n",
      "Requirement already satisfied: cycler>=0.10 in c:\\users\\satya\\olacabsanalysis\\venv\\lib\\site-packages (from matplotlib) (0.12.1)\n",
      "Requirement already satisfied: fonttools>=4.22.0 in c:\\users\\satya\\olacabsanalysis\\venv\\lib\\site-packages (from matplotlib) (4.55.3)\n",
      "Requirement already satisfied: kiwisolver>=1.3.1 in c:\\users\\satya\\olacabsanalysis\\venv\\lib\\site-packages (from matplotlib) (1.4.8)\n",
      "Requirement already satisfied: packaging>=20.0 in c:\\users\\satya\\olacabsanalysis\\venv\\lib\\site-packages (from matplotlib) (24.2)\n",
      "Requirement already satisfied: pillow>=8 in c:\\users\\satya\\olacabsanalysis\\venv\\lib\\site-packages (from matplotlib) (11.1.0)\n",
      "Requirement already satisfied: pyparsing>=2.3.1 in c:\\users\\satya\\olacabsanalysis\\venv\\lib\\site-packages (from matplotlib) (3.2.1)\n",
      "Requirement already satisfied: nltk>=3.8 in c:\\users\\satya\\olacabsanalysis\\venv\\lib\\site-packages (from textblob) (3.9.1)\n",
      "Requirement already satisfied: requests in c:\\users\\satya\\olacabsanalysis\\venv\\lib\\site-packages (from vaderSentiment) (2.32.3)\n",
      "Requirement already satisfied: click in c:\\users\\satya\\olacabsanalysis\\venv\\lib\\site-packages (from nltk>=3.8->textblob) (8.1.8)\n",
      "Requirement already satisfied: joblib in c:\\users\\satya\\olacabsanalysis\\venv\\lib\\site-packages (from nltk>=3.8->textblob) (1.4.2)\n",
      "Requirement already satisfied: regex>=2021.8.3 in c:\\users\\satya\\olacabsanalysis\\venv\\lib\\site-packages (from nltk>=3.8->textblob) (2024.11.6)\n",
      "Requirement already satisfied: tqdm in c:\\users\\satya\\olacabsanalysis\\venv\\lib\\site-packages (from nltk>=3.8->textblob) (4.67.1)\n",
      "Requirement already satisfied: six>=1.5 in c:\\users\\satya\\olacabsanalysis\\venv\\lib\\site-packages (from python-dateutil>=2.8.2->pandas) (1.17.0)\n",
      "Requirement already satisfied: charset-normalizer<4,>=2 in c:\\users\\satya\\olacabsanalysis\\venv\\lib\\site-packages (from requests->vaderSentiment) (3.4.1)\n",
      "Requirement already satisfied: idna<4,>=2.5 in c:\\users\\satya\\olacabsanalysis\\venv\\lib\\site-packages (from requests->vaderSentiment) (3.10)\n",
      "Requirement already satisfied: urllib3<3,>=1.21.1 in c:\\users\\satya\\olacabsanalysis\\venv\\lib\\site-packages (from requests->vaderSentiment) (2.3.0)\n",
      "Requirement already satisfied: certifi>=2017.4.17 in c:\\users\\satya\\olacabsanalysis\\venv\\lib\\site-packages (from requests->vaderSentiment) (2024.12.14)\n",
      "Requirement already satisfied: colorama in c:\\users\\satya\\olacabsanalysis\\venv\\lib\\site-packages (from click->nltk>=3.8->textblob) (0.4.6)\n",
      "Note: you may need to restart the kernel to use updated packages.\n"
     ]
    }
   ],
   "source": [
    "pip install pandas numpy matplotlib seaborn textblob vaderSentiment\n"
   ]
  },
  {
   "cell_type": "markdown",
   "metadata": {},
   "source": [
    "Import Libraries"
   ]
  },
  {
   "cell_type": "code",
   "execution_count": 2,
   "metadata": {},
   "outputs": [],
   "source": [
    "import pandas as pd\n",
    "import matplotlib.pyplot as plt\n",
    "import seaborn as sns\n",
    "from vaderSentiment.vaderSentiment import SentimentIntensityAnalyzer\n"
   ]
  },
  {
   "cell_type": "markdown",
   "metadata": {},
   "source": [
    "Load the Json"
   ]
  },
  {
   "cell_type": "code",
   "execution_count": 3,
   "metadata": {},
   "outputs": [],
   "source": [
    "df = pd.read_json('Ola (1).json')\n"
   ]
  },
  {
   "cell_type": "code",
   "execution_count": 4,
   "metadata": {},
   "outputs": [],
   "source": [
    "df['datetime'] = pd.to_datetime(df['datetime'], format='%d-%m-%Y %H:%M:%S')\n",
    "df['total_engagement'] = df['likes'] + df['shares'] + df['comments'].apply(len)\n"
   ]
  },
  {
   "cell_type": "markdown",
   "metadata": {},
   "source": [
    "Save cleaned_data.csv"
   ]
  },
  {
   "cell_type": "code",
   "execution_count": 5,
   "metadata": {},
   "outputs": [],
   "source": [
    "df.to_csv('cleaned_data.csv', index=False)\n"
   ]
  },
  {
   "cell_type": "markdown",
   "metadata": {},
   "source": [
    "Verify the Saved CSV"
   ]
  },
  {
   "cell_type": "code",
   "execution_count": 6,
   "metadata": {},
   "outputs": [
    {
     "data": {
      "text/html": [
       "<div>\n",
       "<style scoped>\n",
       "    .dataframe tbody tr th:only-of-type {\n",
       "        vertical-align: middle;\n",
       "    }\n",
       "\n",
       "    .dataframe tbody tr th {\n",
       "        vertical-align: top;\n",
       "    }\n",
       "\n",
       "    .dataframe thead th {\n",
       "        text-align: right;\n",
       "    }\n",
       "</style>\n",
       "<table border=\"1\" class=\"dataframe\">\n",
       "  <thead>\n",
       "    <tr style=\"text-align: right;\">\n",
       "      <th></th>\n",
       "      <th>tweet_id</th>\n",
       "      <th>content</th>\n",
       "      <th>datetime</th>\n",
       "      <th>likes</th>\n",
       "      <th>shares</th>\n",
       "      <th>views</th>\n",
       "      <th>source</th>\n",
       "      <th>isBlue</th>\n",
       "      <th>followers</th>\n",
       "      <th>hashtags</th>\n",
       "      <th>location</th>\n",
       "      <th>user_mentions</th>\n",
       "      <th>media</th>\n",
       "      <th>username</th>\n",
       "      <th>url</th>\n",
       "      <th>comments</th>\n",
       "      <th>total_engagement</th>\n",
       "    </tr>\n",
       "  </thead>\n",
       "  <tbody>\n",
       "    <tr>\n",
       "      <th>0</th>\n",
       "      <td>1871889326575136768</td>\n",
       "      <td>Yet again fucking driver accepted the booking ...</td>\n",
       "      <td>2024-12-25 12:02:48</td>\n",
       "      <td>0</td>\n",
       "      <td>0</td>\n",
       "      <td>23.0</td>\n",
       "      <td>TWITTER</td>\n",
       "      <td>False</td>\n",
       "      <td>93</td>\n",
       "      <td>NaN</td>\n",
       "      <td>NaN</td>\n",
       "      <td>[{'name': 'Ola', 'screen_name': 'Olacabs'}]</td>\n",
       "      <td>['https://pbs.twimg.com/media/GfpJadUXkAAqoVS....</td>\n",
       "      <td>desire24_</td>\n",
       "      <td>https://x.com/desire24_/status/187188932657513...</td>\n",
       "      <td>[]</td>\n",
       "      <td>0</td>\n",
       "    </tr>\n",
       "    <tr>\n",
       "      <th>1</th>\n",
       "      <td>1871076431754579968</td>\n",
       "      <td>More than 1 hour and the food is still not her...</td>\n",
       "      <td>2024-12-23 06:12:38</td>\n",
       "      <td>2</td>\n",
       "      <td>1</td>\n",
       "      <td>107.0</td>\n",
       "      <td>TWITTER</td>\n",
       "      <td>False</td>\n",
       "      <td>72</td>\n",
       "      <td>['olafoods']</td>\n",
       "      <td>NaN</td>\n",
       "      <td>[{'name': 'Ola', 'screen_name': 'Olacabs'}, {'...</td>\n",
       "      <td>['https://pbs.twimg.com/media/GfdmGSrWUAA5ZTP....</td>\n",
       "      <td>Karan0072Karan</td>\n",
       "      <td>https://x.com/Karan0072Karan/status/1871076431...</td>\n",
       "      <td>[{'content': 'Customer care services are alway...</td>\n",
       "      <td>6</td>\n",
       "    </tr>\n",
       "    <tr>\n",
       "      <th>2</th>\n",
       "      <td>1871827021585928704</td>\n",
       "      <td>No one is constantly as motherfucking assholes...</td>\n",
       "      <td>2024-12-25 07:55:13</td>\n",
       "      <td>0</td>\n",
       "      <td>0</td>\n",
       "      <td>15.0</td>\n",
       "      <td>TWITTER</td>\n",
       "      <td>False</td>\n",
       "      <td>93</td>\n",
       "      <td>NaN</td>\n",
       "      <td>NaN</td>\n",
       "      <td>[{'name': 'Ola', 'screen_name': 'Olacabs'}]</td>\n",
       "      <td>['https://pbs.twimg.com/media/GfoQv5zXIAAcjA_....</td>\n",
       "      <td>desire24_</td>\n",
       "      <td>https://x.com/desire24_/status/187182702158592...</td>\n",
       "      <td>[]</td>\n",
       "      <td>0</td>\n",
       "    </tr>\n",
       "    <tr>\n",
       "      <th>3</th>\n",
       "      <td>1580646160326615040</td>\n",
       "      <td>Freelance content writers needed. Fully remote...</td>\n",
       "      <td>2022-10-13 19:46:26</td>\n",
       "      <td>396</td>\n",
       "      <td>208</td>\n",
       "      <td>NaN</td>\n",
       "      <td>TWITTER</td>\n",
       "      <td>False</td>\n",
       "      <td>101828</td>\n",
       "      <td>NaN</td>\n",
       "      <td>NaN</td>\n",
       "      <td>[]</td>\n",
       "      <td>['https://pbs.twimg.com/media/Fe-VSXbWIAAaMIe....</td>\n",
       "      <td>OlamideTowobola</td>\n",
       "      <td>https://x.com/OlamideTowobola/status/158064616...</td>\n",
       "      <td>[{'content': 'FYI', 'likes': 0, 'shares': 0, '...</td>\n",
       "      <td>615</td>\n",
       "    </tr>\n",
       "    <tr>\n",
       "      <th>4</th>\n",
       "      <td>1863291107477721600</td>\n",
       "      <td>, Are you guys even concerned about what type ...</td>\n",
       "      <td>2024-01-12 18:36:32</td>\n",
       "      <td>0</td>\n",
       "      <td>0</td>\n",
       "      <td>32.0</td>\n",
       "      <td>TWITTER</td>\n",
       "      <td>False</td>\n",
       "      <td>47</td>\n",
       "      <td>NaN</td>\n",
       "      <td>NaN</td>\n",
       "      <td>[{'name': 'Ola', 'screen_name': 'ola_zkzkvm'},...</td>\n",
       "      <td>['https://pbs.twimg.com/media/Gdu9YbvXkAApPHn....</td>\n",
       "      <td>DWasish</td>\n",
       "      <td>https://x.com/DWasish/status/1863291107477721485</td>\n",
       "      <td>[{'content': 'This type of people going forwar...</td>\n",
       "      <td>1</td>\n",
       "    </tr>\n",
       "  </tbody>\n",
       "</table>\n",
       "</div>"
      ],
      "text/plain": [
       "              tweet_id                                            content  \\\n",
       "0  1871889326575136768  Yet again fucking driver accepted the booking ...   \n",
       "1  1871076431754579968  More than 1 hour and the food is still not her...   \n",
       "2  1871827021585928704  No one is constantly as motherfucking assholes...   \n",
       "3  1580646160326615040  Freelance content writers needed. Fully remote...   \n",
       "4  1863291107477721600  , Are you guys even concerned about what type ...   \n",
       "\n",
       "              datetime  likes  shares  views   source  isBlue  followers  \\\n",
       "0  2024-12-25 12:02:48      0       0   23.0  TWITTER   False         93   \n",
       "1  2024-12-23 06:12:38      2       1  107.0  TWITTER   False         72   \n",
       "2  2024-12-25 07:55:13      0       0   15.0  TWITTER   False         93   \n",
       "3  2022-10-13 19:46:26    396     208    NaN  TWITTER   False     101828   \n",
       "4  2024-01-12 18:36:32      0       0   32.0  TWITTER   False         47   \n",
       "\n",
       "       hashtags  location                                      user_mentions  \\\n",
       "0           NaN       NaN        [{'name': 'Ola', 'screen_name': 'Olacabs'}]   \n",
       "1  ['olafoods']       NaN  [{'name': 'Ola', 'screen_name': 'Olacabs'}, {'...   \n",
       "2           NaN       NaN        [{'name': 'Ola', 'screen_name': 'Olacabs'}]   \n",
       "3           NaN       NaN                                                 []   \n",
       "4           NaN       NaN  [{'name': 'Ola', 'screen_name': 'ola_zkzkvm'},...   \n",
       "\n",
       "                                               media         username  \\\n",
       "0  ['https://pbs.twimg.com/media/GfpJadUXkAAqoVS....        desire24_   \n",
       "1  ['https://pbs.twimg.com/media/GfdmGSrWUAA5ZTP....   Karan0072Karan   \n",
       "2  ['https://pbs.twimg.com/media/GfoQv5zXIAAcjA_....        desire24_   \n",
       "3  ['https://pbs.twimg.com/media/Fe-VSXbWIAAaMIe....  OlamideTowobola   \n",
       "4  ['https://pbs.twimg.com/media/Gdu9YbvXkAApPHn....          DWasish   \n",
       "\n",
       "                                                 url  \\\n",
       "0  https://x.com/desire24_/status/187188932657513...   \n",
       "1  https://x.com/Karan0072Karan/status/1871076431...   \n",
       "2  https://x.com/desire24_/status/187182702158592...   \n",
       "3  https://x.com/OlamideTowobola/status/158064616...   \n",
       "4   https://x.com/DWasish/status/1863291107477721485   \n",
       "\n",
       "                                            comments  total_engagement  \n",
       "0                                                 []                 0  \n",
       "1  [{'content': 'Customer care services are alway...                 6  \n",
       "2                                                 []                 0  \n",
       "3  [{'content': 'FYI', 'likes': 0, 'shares': 0, '...               615  \n",
       "4  [{'content': 'This type of people going forwar...                 1  "
      ]
     },
     "execution_count": 6,
     "metadata": {},
     "output_type": "execute_result"
    }
   ],
   "source": [
    "df = pd.read_csv('cleaned_data.csv') \n",
    "df.head()\n"
   ]
  },
  {
   "cell_type": "code",
   "execution_count": 7,
   "metadata": {},
   "outputs": [
    {
     "name": "stdout",
     "output_type": "stream",
     "text": [
      "              tweet_id                                            content  \\\n",
      "0  1871889326575136768  Yet again fucking driver accepted the booking ...   \n",
      "1  1871076431754579968  More than 1 hour and the food is still not her...   \n",
      "2  1871827021585928704  No one is constantly as motherfucking assholes...   \n",
      "3  1580646160326615040  Freelance content writers needed. Fully remote...   \n",
      "4  1863291107477721600  , Are you guys even concerned about what type ...   \n",
      "\n",
      "              datetime  likes  shares  views   source  isBlue  followers  \\\n",
      "0  2024-12-25 12:02:48      0       0   23.0  TWITTER   False         93   \n",
      "1  2024-12-23 06:12:38      2       1  107.0  TWITTER   False         72   \n",
      "2  2024-12-25 07:55:13      0       0   15.0  TWITTER   False         93   \n",
      "3  2022-10-13 19:46:26    396     208    NaN  TWITTER   False     101828   \n",
      "4  2024-01-12 18:36:32      0       0   32.0  TWITTER   False         47   \n",
      "\n",
      "       hashtags  location                                      user_mentions  \\\n",
      "0           NaN       NaN        [{'name': 'Ola', 'screen_name': 'Olacabs'}]   \n",
      "1  ['olafoods']       NaN  [{'name': 'Ola', 'screen_name': 'Olacabs'}, {'...   \n",
      "2           NaN       NaN        [{'name': 'Ola', 'screen_name': 'Olacabs'}]   \n",
      "3           NaN       NaN                                                 []   \n",
      "4           NaN       NaN  [{'name': 'Ola', 'screen_name': 'ola_zkzkvm'},...   \n",
      "\n",
      "                                               media         username  \\\n",
      "0  ['https://pbs.twimg.com/media/GfpJadUXkAAqoVS....        desire24_   \n",
      "1  ['https://pbs.twimg.com/media/GfdmGSrWUAA5ZTP....   Karan0072Karan   \n",
      "2  ['https://pbs.twimg.com/media/GfoQv5zXIAAcjA_....        desire24_   \n",
      "3  ['https://pbs.twimg.com/media/Fe-VSXbWIAAaMIe....  OlamideTowobola   \n",
      "4  ['https://pbs.twimg.com/media/Gdu9YbvXkAApPHn....          DWasish   \n",
      "\n",
      "                                                 url  \\\n",
      "0  https://x.com/desire24_/status/187188932657513...   \n",
      "1  https://x.com/Karan0072Karan/status/1871076431...   \n",
      "2  https://x.com/desire24_/status/187182702158592...   \n",
      "3  https://x.com/OlamideTowobola/status/158064616...   \n",
      "4   https://x.com/DWasish/status/1863291107477721485   \n",
      "\n",
      "                                            comments  total_engagement  \n",
      "0                                                 []                 0  \n",
      "1  [{'content': 'Customer care services are alway...                 6  \n",
      "2                                                 []                 0  \n",
      "3  [{'content': 'FYI', 'likes': 0, 'shares': 0, '...               615  \n",
      "4  [{'content': 'This type of people going forwar...                 1  \n"
     ]
    }
   ],
   "source": [
    "df_cleaned = pd.read_csv('cleaned_data.csv')\n",
    "print(df_cleaned.head())\n"
   ]
  },
  {
   "cell_type": "markdown",
   "metadata": {},
   "source": [
    "Calculate Statistics"
   ]
  },
  {
   "cell_type": "code",
   "execution_count": 8,
   "metadata": {},
   "outputs": [
    {
     "name": "stdout",
     "output_type": "stream",
     "text": [
      "Mean of Engagement Metrics:\n",
      " likes       154.172010\n",
      "shares       35.261097\n",
      "views     20445.616708\n",
      "dtype: float64\n",
      "Median of Engagement Metrics:\n",
      " likes      0.0\n",
      "shares     0.0\n",
      "views     51.0\n",
      "dtype: float64\n",
      "Mode of Engagement Metrics:\n",
      "    likes  shares  views\n",
      "0      0       0    9.0\n"
     ]
    }
   ],
   "source": [
    "df = pd.read_csv('cleaned_data.csv')\n",
    "\n",
    "# Calculate mean, median, mode\n",
    "print(\"Mean of Engagement Metrics:\\n\", df[['likes', 'shares', 'views']].mean())\n",
    "print(\"Median of Engagement Metrics:\\n\", df[['likes', 'shares', 'views']].median())\n",
    "print(\"Mode of Engagement Metrics:\\n\", df[['likes', 'shares', 'views']].mode())\n"
   ]
  },
  {
   "cell_type": "markdown",
   "metadata": {},
   "source": [
    "Identify Top 5 Posts"
   ]
  },
  {
   "cell_type": "code",
   "execution_count": 9,
   "metadata": {},
   "outputs": [
    {
     "name": "stdout",
     "output_type": "stream",
     "text": [
      "Top 5 Posts with Highest Engagement:\n",
      "                                                content  total_engagement\n",
      "30   HELP WANTED Tons of PAID work opportunities fo...             34359\n",
      "202  While the OLA electric CEO rants on someone el...             32187\n",
      "723  I am getting laid off 12/31 but I am going to ...             31486\n",
      "382  Who said the job market is bad? Just complain ...             31039\n",
      "737  OCA ech a 350 trabajadores. La empresa est coa...             25517\n"
     ]
    }
   ],
   "source": [
    "df['total_engagement'] = df['likes'] + df['shares'] + df['comments'].apply(len)\n",
    "top_5_posts = df.nlargest(5, 'total_engagement')\n",
    "print(\"Top 5 Posts with Highest Engagement:\\n\", top_5_posts[['content', 'total_engagement']])\n"
   ]
  },
  {
   "cell_type": "markdown",
   "metadata": {},
   "source": [
    "Count Posts with Media Attachments"
   ]
  },
  {
   "cell_type": "code",
   "execution_count": 10,
   "metadata": {},
   "outputs": [
    {
     "name": "stdout",
     "output_type": "stream",
     "text": [
      "Number of posts with media: 0\n"
     ]
    }
   ],
   "source": [
    "media_posts_count = df['media'].apply(lambda x: len(x) > 0 if isinstance(x, list) else False).sum()\n",
    "print(f\"Number of posts with media: {media_posts_count}\")\n"
   ]
  },
  {
   "cell_type": "markdown",
   "metadata": {},
   "source": [
    "Perform Sentiment Analysis"
   ]
  },
  {
   "cell_type": "code",
   "execution_count": 11,
   "metadata": {},
   "outputs": [],
   "source": [
    "from vaderSentiment.vaderSentiment import SentimentIntensityAnalyzer\n",
    "\n",
    "analyzer = SentimentIntensityAnalyzer()\n",
    "df['sentiment_score'] = df['content'].apply(lambda x: analyzer.polarity_scores(x)['compound'])\n"
   ]
  },
  {
   "cell_type": "markdown",
   "metadata": {},
   "source": [
    "Categorize Sentiments\n",
    "python\n",
    "Copy code\n"
   ]
  },
  {
   "cell_type": "code",
   "execution_count": 12,
   "metadata": {},
   "outputs": [],
   "source": [
    "df['sentiment_category'] = pd.cut(df['sentiment_score'], bins=[-1, -0.05, 0.05, 1], labels=['Negative', 'Neutral', 'Positive'])\n"
   ]
  },
  {
   "cell_type": "markdown",
   "metadata": {},
   "source": [
    "Calculate Sentiment Percentages"
   ]
  },
  {
   "cell_type": "code",
   "execution_count": 13,
   "metadata": {},
   "outputs": [
    {
     "name": "stdout",
     "output_type": "stream",
     "text": [
      "Sentiment Distribution:\n",
      " sentiment_category\n",
      "Positive    44.081381\n",
      "Negative    32.398274\n",
      "Neutral     23.520345\n",
      "Name: proportion, dtype: float64\n"
     ]
    }
   ],
   "source": [
    "sentiment_distribution = df['sentiment_category'].value_counts(normalize=True) * 100\n",
    "print(\"Sentiment Distribution:\\n\", sentiment_distribution)\n"
   ]
  },
  {
   "cell_type": "markdown",
   "metadata": {},
   "source": [
    "Analyze Customer Complaints"
   ]
  },
  {
   "cell_type": "code",
   "execution_count": 14,
   "metadata": {},
   "outputs": [],
   "source": [
    "complaint_keywords = ['driver', 'cancellation', 'customer service']\n",
    "complaint_posts = df[df['content'].str.contains('|'.join(complaint_keywords), case=False, na=False)]\n"
   ]
  },
  {
   "cell_type": "code",
   "execution_count": 15,
   "metadata": {},
   "outputs": [
    {
     "name": "stdout",
     "output_type": "stream",
     "text": [
      "Categorized Complaints:\n",
      "                                              content complaint_category\n",
      "0   Yet again fucking driver accepted the booking ...       Driver Issue\n",
      "2   No one is constantly as motherfucking assholes...       Driver Issue\n",
      "4   , Are you guys even concerned about what type ...       Driver Issue\n",
      "6   ola driver is rude and the way he was talking ...       Driver Issue\n",
      "13  Ola is hiring goons as drivers! Booked a cab f...       Driver Issue\n"
     ]
    },
    {
     "name": "stderr",
     "output_type": "stream",
     "text": [
      "C:\\Users\\satya\\AppData\\Local\\Temp\\ipykernel_25276\\1078139522.py:26: FutureWarning: \n",
      "\n",
      "Passing `palette` without assigning `hue` is deprecated and will be removed in v0.14.0. Assign the `x` variable to `hue` and set `legend=False` for the same effect.\n",
      "\n",
      "  sns.countplot(data=complaint_posts, x='complaint_category', palette='viridis')\n"
     ]
    },
    {
     "data": {
      "image/png": "[encoded data removed]",
      "text/plain": [
       "<Figure size 800x500 with 1 Axes>"
      ]
     },
     "metadata": {},
     "output_type": "display_data"
    },
    {
     "name": "stdout",
     "output_type": "stream",
     "text": [
      "Categorized complaints saved to: categorized_complaints.csv\n"
     ]
    }
   ],
   "source": [
    "\n",
    "def categorize_complaint(content):\n",
    "    \"\"\"\n",
    "    Categorize the type of complaint based on keywords in the content.\n",
    "    \"\"\"\n",
    "    if 'driver' in content.lower():\n",
    "        return 'Driver Issue'\n",
    "    elif 'cancellation' in content.lower():\n",
    "        return 'Cancellation'\n",
    "    elif 'customer service' in content.lower():\n",
    "        return 'Customer Service'\n",
    "    return 'Other'\n",
    "\n",
    "# Step 4: Filter posts that contain complaint-related keywords\n",
    "complaint_keywords = ['driver', 'cancellation', 'customer service']\n",
    "complaint_posts = df[df['content'].str.contains('|'.join(complaint_keywords), case=False, na=False)].copy()\n",
    "\n",
    "# Step 5: Apply the categorization function to the filtered posts\n",
    "complaint_posts['complaint_category'] = complaint_posts['content'].apply(categorize_complaint)\n",
    "\n",
    "# Step 6: Display the categorized complaints\n",
    "print(\"Categorized Complaints:\")\n",
    "print(complaint_posts[['content', 'complaint_category']].head())\n",
    "\n",
    "# Step 7: Visualize the complaint categories\n",
    "plt.figure(figsize=(8, 5))\n",
    "sns.countplot(data=complaint_posts, x='complaint_category', palette='viridis')\n",
    "plt.title('Distribution of Complaint Categories', fontsize=14)\n",
    "plt.xlabel('Complaint Category', fontsize=12)\n",
    "plt.ylabel('Number of Complaints', fontsize=12)\n",
    "plt.xticks(rotation=30)\n",
    "plt.tight_layout()\n",
    "\n",
    "# Save the visualization\n",
    "plt.savefig('complaint_categories.png')\n",
    "plt.show()\n",
    "\n",
    "# Step 8: Save the categorized complaints to a new CSV file\n",
    "output_file = 'categorized_complaints.csv'\n",
    "complaint_posts.to_csv(output_file, index=False)\n",
    "print(f\"Categorized complaints saved to: {output_file}\")\n"
   ]
  },
  {
   "cell_type": "code",
   "execution_count": 16,
   "metadata": {},
   "outputs": [
    {
     "name": "stdout",
     "output_type": "stream",
     "text": [
      "Requirement already satisfied: scipy in c:\\users\\satya\\olacabsanalysis\\venv\\lib\\site-packages (1.15.0)Note: you may need to restart the kernel to use updated packages.\n",
      "\n",
      "Requirement already satisfied: numpy<2.5,>=1.23.5 in c:\\users\\satya\\olacabsanalysis\\venv\\lib\\site-packages (from scipy) (2.2.1)\n"
     ]
    }
   ],
   "source": [
    "pip install scipy\n"
   ]
  },
  {
   "cell_type": "code",
   "execution_count": 17,
   "metadata": {},
   "outputs": [
    {
     "name": "stdout",
     "output_type": "stream",
     "text": [
      "Correlation between Followers and Engagement: 0.0942660239748191\n"
     ]
    }
   ],
   "source": [
    "from scipy.stats import pearsonr\n",
    "\n",
    "correlation, _ = pearsonr(df['followers'], df['total_engagement'])\n",
    "print(f\"Correlation between Followers and Engagement: {correlation}\")\n"
   ]
  },
  {
   "cell_type": "code",
   "execution_count": 18,
   "metadata": {},
   "outputs": [
    {
     "name": "stdout",
     "output_type": "stream",
     "text": [
      "Engagement by Source:\n",
      " source\n",
      "TWITTER    1085.913687\n",
      "Name: total_engagement, dtype: float64\n"
     ]
    }
   ],
   "source": [
    "source_engagement = df.groupby('source')['total_engagement'].mean().sort_values(ascending=False)\n",
    "print(\"Engagement by Source:\\n\", source_engagement)\n"
   ]
  },
  {
   "cell_type": "code",
   "execution_count": 19,
   "metadata": {},
   "outputs": [],
   "source": [
    "df.to_csv('final_analysis_results.csv', index=False)\n"
   ]
  },
  {
   "cell_type": "code",
   "execution_count": 20,
   "metadata": {},
   "outputs": [
    {
     "data": {
      "text/plain": [
       "<Figure size 640x480 with 0 Axes>"
      ]
     },
     "metadata": {},
     "output_type": "display_data"
    }
   ],
   "source": [
    "plt.savefig('complaint_distribution.png')\n"
   ]
  },
  {
   "cell_type": "code",
   "execution_count": 22,
   "metadata": {},
   "outputs": [
    {
     "name": "stdout",
     "output_type": "stream",
     "text": [
      "              tweet_id                                            content  \\\n",
      "0  1871889326575136768  Yet again fucking driver accepted the booking ...   \n",
      "1  1871076431754579968  More than 1 hour and the food is still not her...   \n",
      "2  1871827021585928704  No one is constantly as motherfucking assholes...   \n",
      "3  1580646160326615040  Freelance content writers needed. Fully remote...   \n",
      "4  1863291107477721600  , Are you guys even concerned about what type ...   \n",
      "\n",
      "              datetime  likes  shares  views   source  isBlue  followers  \\\n",
      "0  2024-12-25 12:02:48      0       0   23.0  TWITTER   False         93   \n",
      "1  2024-12-23 06:12:38      2       1  107.0  TWITTER   False         72   \n",
      "2  2024-12-25 07:55:13      0       0   15.0  TWITTER   False         93   \n",
      "3  2022-10-13 19:46:26    396     208    NaN  TWITTER   False     101828   \n",
      "4  2024-01-12 18:36:32      0       0   32.0  TWITTER   False         47   \n",
      "\n",
      "       hashtags  location                                      user_mentions  \\\n",
      "0           NaN       NaN        [{'name': 'Ola', 'screen_name': 'Olacabs'}]   \n",
      "1  ['olafoods']       NaN  [{'name': 'Ola', 'screen_name': 'Olacabs'}, {'...   \n",
      "2           NaN       NaN        [{'name': 'Ola', 'screen_name': 'Olacabs'}]   \n",
      "3           NaN       NaN                                                 []   \n",
      "4           NaN       NaN  [{'name': 'Ola', 'screen_name': 'ola_zkzkvm'},...   \n",
      "\n",
      "                                               media         username  \\\n",
      "0  ['https://pbs.twimg.com/media/GfpJadUXkAAqoVS....        desire24_   \n",
      "1  ['https://pbs.twimg.com/media/GfdmGSrWUAA5ZTP....   Karan0072Karan   \n",
      "2  ['https://pbs.twimg.com/media/GfoQv5zXIAAcjA_....        desire24_   \n",
      "3  ['https://pbs.twimg.com/media/Fe-VSXbWIAAaMIe....  OlamideTowobola   \n",
      "4  ['https://pbs.twimg.com/media/Gdu9YbvXkAApPHn....          DWasish   \n",
      "\n",
      "                                                 url  \\\n",
      "0  https://x.com/desire24_/status/187188932657513...   \n",
      "1  https://x.com/Karan0072Karan/status/1871076431...   \n",
      "2  https://x.com/desire24_/status/187182702158592...   \n",
      "3  https://x.com/OlamideTowobola/status/158064616...   \n",
      "4   https://x.com/DWasish/status/1863291107477721485   \n",
      "\n",
      "                                            comments  total_engagement  \n",
      "0                                                 []                 0  \n",
      "1  [{'content': 'Customer care services are alway...                 6  \n",
      "2                                                 []                 0  \n",
      "3  [{'content': 'FYI', 'likes': 0, 'shares': 0, '...               615  \n",
      "4  [{'content': 'This type of people going forwar...                 1  \n"
     ]
    }
   ],
   "source": [
    "import pandas as pd\n",
    "df = pd.read_csv('cleaned_data.csv')  # Replace with your actual file path\n",
    "print(df.head())  # Check the first few rows\n"
   ]
  },
  {
   "cell_type": "code",
   "execution_count": 23,
   "metadata": {},
   "outputs": [],
   "source": [
    "complaint_keywords = ['driver', 'cancellation', 'customer service']\n"
   ]
  },
  {
   "cell_type": "code",
   "execution_count": 24,
   "metadata": {},
   "outputs": [
    {
     "name": "stdout",
     "output_type": "stream",
     "text": [
      "Number of complaints found: 332\n"
     ]
    }
   ],
   "source": [
    "complaints = df[df['content'].str.contains('|'.join(complaint_keywords), case=False, na=False)].copy()\n",
    "print(\"Number of complaints found:\", len(complaints))\n"
   ]
  },
  {
   "cell_type": "code",
   "execution_count": 25,
   "metadata": {},
   "outputs": [
    {
     "name": "stdout",
     "output_type": "stream",
     "text": [
      "                                              content complaint_category\n",
      "0   Yet again fucking driver accepted the booking ...       Driver Issue\n",
      "2   No one is constantly as motherfucking assholes...       Driver Issue\n",
      "4   , Are you guys even concerned about what type ...       Driver Issue\n",
      "6   ola driver is rude and the way he was talking ...       Driver Issue\n",
      "13  Ola is hiring goons as drivers! Booked a cab f...       Driver Issue\n"
     ]
    }
   ],
   "source": [
    "def categorize_complaint(content):\n",
    "    if 'driver' in content.lower():\n",
    "        return 'Driver Issue'\n",
    "    elif 'cancellation' in content.lower():\n",
    "        return 'Cancellation'\n",
    "    elif 'customer service' in content.lower():\n",
    "        return 'Customer Service'\n",
    "    return 'Other'\n",
    "\n",
    "complaints['complaint_category'] = complaints['content'].apply(categorize_complaint)\n",
    "print(complaints[['content', 'complaint_category']].head())\n"
   ]
  },
  {
   "cell_type": "code",
   "execution_count": 26,
   "metadata": {},
   "outputs": [
    {
     "name": "stderr",
     "output_type": "stream",
     "text": [
      "C:\\Users\\satya\\AppData\\Local\\Temp\\ipykernel_25276\\4095884219.py:6: FutureWarning: \n",
      "\n",
      "Passing `palette` without assigning `hue` is deprecated and will be removed in v0.14.0. Assign the `x` variable to `hue` and set `legend=False` for the same effect.\n",
      "\n",
      "  sns.countplot(data=complaints, x='complaint_category', palette='viridis')\n"
     ]
    },
    {
     "data": {
      "image/png": "[encoded data removed]",
      "text/plain": [
       "<Figure size 800x500 with 1 Axes>"
      ]
     },
     "metadata": {},
     "output_type": "display_data"
    },
    {
     "name": "stdout",
     "output_type": "stream",
     "text": [
      "Complaint distribution plot saved successfully.\n"
     ]
    },
    {
     "data": {
      "text/plain": [
       "<Figure size 640x480 with 0 Axes>"
      ]
     },
     "metadata": {},
     "output_type": "display_data"
    }
   ],
   "source": [
    "import matplotlib.pyplot as plt\n",
    "import seaborn as sns\n",
    "\n",
    "if not complaints.empty:\n",
    "    plt.figure(figsize=(8, 5))\n",
    "    sns.countplot(data=complaints, x='complaint_category', palette='viridis')\n",
    "    plt.title('Distribution of Complaint Categories', fontsize=14)\n",
    "    plt.xlabel('Complaint Category', fontsize=12)\n",
    "    plt.ylabel('Number of Complaints', fontsize=12)\n",
    "    plt.xticks(rotation=30)\n",
    "    plt.tight_layout()\n",
    "    plt.show()\n",
    "    plt.savefig('complaint_distribution.png')\n",
    "    print(\"Complaint distribution plot saved successfully.\")\n",
    "else:\n",
    "    print(\"No complaints data available to plot.\")\n"
   ]
  },
  {
   "cell_type": "code",
   "execution_count": 27,
   "metadata": {},
   "outputs": [
    {
     "name": "stdout",
     "output_type": "stream",
     "text": [
      "Index(['tweet_id', 'content', 'datetime', 'likes', 'shares', 'views', 'source',\n",
      "       'isBlue', 'followers', 'hashtags', 'location', 'user_mentions', 'media',\n",
      "       'username', 'url', 'comments', 'total_engagement'],\n",
      "      dtype='object')\n",
      "0    Yet again fucking driver accepted the booking ...\n",
      "1    More than 1 hour and the food is still not her...\n",
      "2    No one is constantly as motherfucking assholes...\n",
      "3    Freelance content writers needed. Fully remote...\n",
      "4    , Are you guys even concerned about what type ...\n",
      "Name: content, dtype: object\n"
     ]
    }
   ],
   "source": [
    "print(df.columns)  # Check if 'content' exists\n",
    "print(df['content'].head())  # Check if 'content' has valid text\n"
   ]
  },
  {
   "cell_type": "code",
   "execution_count": 28,
   "metadata": {},
   "outputs": [],
   "source": [
    "complaint_keywords = ['issue', 'problem', 'complaint']\n"
   ]
  },
  {
   "cell_type": "code",
   "execution_count": 29,
   "metadata": {},
   "outputs": [],
   "source": [
    "df['content'] = df['content'].fillna('')\n"
   ]
  },
  {
   "cell_type": "code",
   "execution_count": 30,
   "metadata": {},
   "outputs": [
    {
     "name": "stdout",
     "output_type": "stream",
     "text": [
      "Number of complaints: 332\n",
      "               tweet_id                                            content  \\\n",
      "0   1871889326575136768  Yet again fucking driver accepted the booking ...   \n",
      "2   1871827021585928704  No one is constantly as motherfucking assholes...   \n",
      "4   1863291107477721600  , Are you guys even concerned about what type ...   \n",
      "6   1860045970278613504  ola driver is rude and the way he was talking ...   \n",
      "13  1710370803500679424  Ola is hiring goons as drivers! Booked a cab f...   \n",
      "\n",
      "               datetime  likes  shares  views   source  isBlue  followers  \\\n",
      "0   2024-12-25 12:02:48      0       0   23.0  TWITTER   False         93   \n",
      "2   2024-12-25 07:55:13      0       0   15.0  TWITTER   False         93   \n",
      "4   2024-01-12 18:36:32      0       0   32.0  TWITTER   False         47   \n",
      "6   2024-11-22 19:41:31      0       0    4.0  TWITTER   False         15   \n",
      "13  2023-06-10 19:05:51      6       2  194.0  TWITTER   False          5   \n",
      "\n",
      "   hashtags  location                                      user_mentions  \\\n",
      "0       NaN       NaN        [{'name': 'Ola', 'screen_name': 'Olacabs'}]   \n",
      "2       NaN       NaN        [{'name': 'Ola', 'screen_name': 'Olacabs'}]   \n",
      "4       NaN       NaN  [{'name': 'Ola', 'screen_name': 'ola_zkzkvm'},...   \n",
      "6       NaN       NaN  [{'name': 'Ola', 'screen_name': 'Olacabs'}, {'...   \n",
      "13      NaN       NaN  [{'name': 'Ola', 'screen_name': 'Olacabs'}, {'...   \n",
      "\n",
      "                                                media         username  \\\n",
      "0   ['https://pbs.twimg.com/media/GfpJadUXkAAqoVS....        desire24_   \n",
      "2   ['https://pbs.twimg.com/media/GfoQv5zXIAAcjA_....        desire24_   \n",
      "4   ['https://pbs.twimg.com/media/Gdu9YbvXkAApPHn....          DWasish   \n",
      "6   ['https://pbs.twimg.com/media/GdA18i2agAILuYO....  nishantranjan54   \n",
      "13  ['https://pbs.twimg.com/media/F7x1LR0bUAAcCnI....  PancholiNi65782   \n",
      "\n",
      "                                                  url  \\\n",
      "0   https://x.com/desire24_/status/187188932657513...   \n",
      "2   https://x.com/desire24_/status/187182702158592...   \n",
      "4    https://x.com/DWasish/status/1863291107477721485   \n",
      "6   https://x.com/nishantranjan54/status/186004597...   \n",
      "13  https://x.com/PancholiNi65782/status/171037080...   \n",
      "\n",
      "                                             comments  total_engagement  \\\n",
      "0                                                  []                 0   \n",
      "2                                                  []                 0   \n",
      "4   [{'content': 'This type of people going forwar...                 1   \n",
      "6   [{'content': 'Now he cancelled his trip himsel...                 1   \n",
      "13                                                 []                 8   \n",
      "\n",
      "   complaint_category  \n",
      "0        Driver Issue  \n",
      "2        Driver Issue  \n",
      "4        Driver Issue  \n",
      "6        Driver Issue  \n",
      "13       Driver Issue  \n"
     ]
    }
   ],
   "source": [
    "print(\"Number of complaints:\", len(complaints))\n",
    "print(complaints.head())\n"
   ]
  },
  {
   "cell_type": "code",
   "execution_count": 31,
   "metadata": {},
   "outputs": [
    {
     "name": "stderr",
     "output_type": "stream",
     "text": [
      "C:\\Users\\satya\\AppData\\Local\\Temp\\ipykernel_25276\\3469786394.py:21: FutureWarning: \n",
      "\n",
      "Passing `palette` without assigning `hue` is deprecated and will be removed in v0.14.0. Assign the `x` variable to `hue` and set `legend=False` for the same effect.\n",
      "\n",
      "  sns.countplot(data=complaints, x='complaint_category', palette='viridis')\n"
     ]
    },
    {
     "data": {
      "image/png": "[encoded data removed]",
      "text/plain": [
       "<Figure size 800x500 with 1 Axes>"
      ]
     },
     "metadata": {},
     "output_type": "display_data"
    }
   ],
   "source": [
    "import matplotlib.pyplot as plt\n",
    "import seaborn as sns\n",
    "import pandas as pd\n",
    "\n",
    "# Example complaints DataFrame\n",
    "data = {\n",
    "    'content': [\n",
    "        \"Driver was rude and unprofessional.\",\n",
    "        \"Booking cancellation charges applied incorrectly.\",\n",
    "        \"Customer service was unresponsive.\",\n",
    "        \"Driver was late and impolite.\",\n",
    "        \"Frequent cancellations from drivers.\"\n",
    "    ],\n",
    "    'complaint_category': ['Driver Issue', 'Cancellation', 'Customer Service', 'Driver Issue', 'Cancellation']\n",
    "}\n",
    "\n",
    "complaints = pd.DataFrame(data)\n",
    "\n",
    "# Create a bar chart\n",
    "plt.figure(figsize=(8, 5))\n",
    "sns.countplot(data=complaints, x='complaint_category', palette='viridis')\n",
    "plt.title('Distribution of Complaint Categories', fontsize=14)\n",
    "plt.xlabel('Complaint Category', fontsize=12)\n",
    "plt.ylabel('Number of Complaints', fontsize=12)\n",
    "plt.xticks(rotation=30)\n",
    "plt.tight_layout()\n",
    "\n",
    "# Save the plot\n",
    "plt.savefig('complaint_distribution.png')  # Saves in the current working directory\n",
    "plt.show()  # Display the plot\n"
   ]
  },
  {
   "cell_type": "code",
   "execution_count": 32,
   "metadata": {},
   "outputs": [
    {
     "name": "stdout",
     "output_type": "stream",
     "text": [
      "Current working directory: c:\\Users\\satya\\OlaCabsAnalysis\n"
     ]
    }
   ],
   "source": [
    "import os\n",
    "print(\"Current working directory:\", os.getcwd())\n"
   ]
  }
 ],
 "metadata": {
  "kernelspec": {
   "display_name": "venv",
   "language": "python",
   "name": "python3"
  },
  "language_info": {
   "codemirror_mode": {
    "name": "ipython",
    "version": 3
   },
   "file_extension": ".py",
   "mimetype": "text/x-python",
   "name": "python",
   "nbconvert_exporter": "python",
   "pygments_lexer": "ipython3",
   "version": "3.12.7"
  }
 },
 "nbformat": 4,
 "nbformat_minor": 2
}
